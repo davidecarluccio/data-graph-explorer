{
  "nbformat": 4,
  "nbformat_minor": 0,
  "metadata": {
    "colab": {
      "provenance": []
    },
    "kernelspec": {
      "name": "python3",
      "display_name": "Python 3"
    },
    "language_info": {
      "name": "python"
    }
  },
  "cells": [
    {
      "cell_type": "markdown",
      "source": [
        "# Imports"
      ],
      "metadata": {
        "id": "FbZkPhisjosT"
      }
    },
    {
      "cell_type": "code",
      "execution_count": 1,
      "metadata": {
        "id": "f1_SNR7UjKwL"
      },
      "outputs": [],
      "source": [
        "import pandas as pd\n",
        "from google.colab import files\n",
        "import requests\n",
        "from io import StringIO\n",
        "import numpy as np\n",
        "import matplotlib.pyplot as plt"
      ]
    },
    {
      "cell_type": "markdown",
      "source": [
        "# Get a CSV File Data"
      ],
      "metadata": {
        "id": "484z6qbajse7"
      }
    },
    {
      "cell_type": "code",
      "source": [
        "def get_csv():\n",
        "  choice = input(\"\"\"\n",
        "  Please choose an option below to get a CSV file:\\n\n",
        "  ------------------------------------------------\\n\n",
        "  Press '1' to upload a file\\n\n",
        "  Press '2' to prove a URL\\n\n",
        "  Press '3' to use the default data\\n\n",
        "  ------------------------------------------------\\n\n",
        "  \"\"\")\n",
        "\n",
        "  if choice == \"1\":\n",
        "    uploaded_file = files.upload()\n",
        "    file_name = list(uploaded_file.keys())[0]\n",
        "    return pd.read_csv(StringIO(uploaded_file[file_name].decode(\"utf-8\")))\n",
        "  elif choice == \"2\":\n",
        "    url = input(\"Enter the URL: \")\n",
        "    response = requests.get(url)\n",
        "    return pd.read_csv(StringIO(response.text))\n",
        "  elif choice == \"3\":\n",
        "    url = \"https://raw.githubusercontent.com/fivethirtyeight/data/master/airline-safety/airline-safety.csv\"\n",
        "    response = requests.get(url)\n",
        "    return pd.read_csv(StringIO(response.text))\n",
        "  else:\n",
        "    print(\"Option invalid\")\n",
        "    return None"
      ],
      "metadata": {
        "id": "ailpglKLjt1-"
      },
      "execution_count": 2,
      "outputs": []
    },
    {
      "cell_type": "markdown",
      "source": [
        "# Print some examples from the data"
      ],
      "metadata": {
        "id": "J1W9bJGsjwBk"
      }
    },
    {
      "cell_type": "code",
      "source": [
        "def show_data(data, headings):\n",
        "  print(\"Headings: \", headings)\n",
        "  print(data.head(2))"
      ],
      "metadata": {
        "id": "BAOeS3fAjxiV"
      },
      "execution_count": 3,
      "outputs": []
    },
    {
      "cell_type": "markdown",
      "source": [
        "# Convert two columns to numpy arrays"
      ],
      "metadata": {
        "id": "a6uZXqsnjypY"
      }
    },
    {
      "cell_type": "code",
      "source": [
        "def convert_to_arrays(c1, c2):\n",
        "  a1 = c1.values\n",
        "  a2 = c2.values\n",
        "\n",
        "  return a1, a2"
      ],
      "metadata": {
        "id": "34avT4r3j0mj"
      },
      "execution_count": 4,
      "outputs": []
    },
    {
      "cell_type": "markdown",
      "source": [
        "# Show data as a scatter plot"
      ],
      "metadata": {
        "id": "_i_fQsFaj1y2"
      }
    },
    {
      "cell_type": "code",
      "source": [
        "def make_scatter_plot(a1, a2, n1=\"X-Axis\", n2=\"Y-Axis\", title=\"Scatter Plot\"):\n",
        "  plt.scatter(a1, a2)\n",
        "  plt.xlabel(n1)\n",
        "  plt.ylabel(n2)\n",
        "  plt.title(title)\n",
        "  plt.show()"
      ],
      "metadata": {
        "id": "uOdF9gWij31d"
      },
      "execution_count": 5,
      "outputs": []
    },
    {
      "cell_type": "markdown",
      "source": [
        "# Calculator Usage"
      ],
      "metadata": {
        "id": "QbuyS6SZj44P"
      }
    },
    {
      "cell_type": "code",
      "source": [
        "df = get_csv()\n",
        "headings = df.columns.tolist()\n",
        "show_data(df, headings)\n",
        "a1, a2 = convert_to_arrays(df[headings[0]], df[headings[1]])\n",
        "make_scatter_plot(a1, a2, headings[0], headings[1])"
      ],
      "metadata": {
        "colab": {
          "base_uri": "https://localhost:8080/",
          "height": 854
        },
        "id": "M0peZi3fj6ae",
        "outputId": "3b73f8e5-50ea-4b85-bd35-29fdf14d93df"
      },
      "execution_count": 7,
      "outputs": [
        {
          "output_type": "stream",
          "name": "stdout",
          "text": [
            "\n",
            "  Please choose an option below to get a CSV file:\n",
            "\n",
            "  ------------------------------------------------\n",
            "\n",
            "  Press '1' to upload a file\n",
            "\n",
            "  Press '2' to prove a URL\n",
            "\n",
            "  Press '3' to use the default data\n",
            "\n",
            "  ------------------------------------------------\n",
            "\n",
            "  3\n",
            "Headings:  ['airline', 'avail_seat_km_per_week', 'incidents_85_99', 'fatal_accidents_85_99', 'fatalities_85_99', 'incidents_00_14', 'fatal_accidents_00_14', 'fatalities_00_14']\n",
            "      airline  avail_seat_km_per_week  incidents_85_99  fatal_accidents_85_99  \\\n",
            "0  Aer Lingus               320906734                2                      0   \n",
            "1   Aeroflot*              1197672318               76                     14   \n",
            "\n",
            "   fatalities_85_99  incidents_00_14  fatal_accidents_00_14  fatalities_00_14  \n",
            "0                 0                0                      0                 0  \n",
            "1               128                6                      1                88  \n"
          ]
        },
        {
          "output_type": "display_data",
          "data": {
            "text/plain": [
              "<Figure size 640x480 with 1 Axes>"
            ],
            "image/png": "[encoded data removed]"
          },
          "metadata": {}
        }
      ]
    }
  ]
}
